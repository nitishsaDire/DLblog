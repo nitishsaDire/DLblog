{
 "cells": [
  {
   "cell_type": "markdown",
   "metadata": {},
   "source": [
    "# Deep Learning Introduction\n",
    "> A very gentle introduction to the Deep Neural networks and some of it's terminology.\n",
    "\n",
    "- toc: true \n",
    "- badges: true\n",
    "- comments: true\n",
    "- categories: [jupyter]\n",
    "- image: ../images/neuron.jpeg"
   ]
  },
  {
   "cell_type": "markdown",
   "metadata": {},
   "source": [
    "## Introduction\n",
    "\n",
    "Deep Learning is a technique to extract and transform data from an input dataset, by using a `deep` network of neural network layers. By deep means that the number of layers is huge, could be as big as 100s of layers.\n",
    "Layers in any deep neural network are in one of the following categories:\n",
    "- **Input Layer:** This is the layer where the input is applied to the network.\n",
    "- **Hidden Layers:** These are all the layers between the input layer and the output layer of a neural network. Each layer has multiple neurons (described in the next section). A neuron applies weights (linear function) to the input received and directs it through an activation function (non-linear function). Each hidden layer receives input as the output of the previous layer, applies transformations on the input, and gives output to the next layer.\n",
    "- **Output Layer:** This layer computes the output of the network in the format we want. E.g. In classification problem if there are C classes, then generally output layer gives a C length vector containing probabilities for each class, and we predict the class with the highest probability.\n",
    "\n",
    "The output of the neural network is compared against the true-output, and a loss-value is calculated using a loss function. \n",
    "\n",
    "A loss function takes input as the network's output $(\\hat{y})$ and true-output$(y)$ and computes a scalar value which depicts our happiness or unhappiness with the result. E.g. If we have 5 classes, i.e. $C=5$, and we get $y=2$, but $\\hat{y}=1$, it means that our network classifies input into class 2, but the ground truth showing input of class 1. To give feedback of our *unhappiness* to the network our loss value should be a high positive number. If $\\hat{y} = y$ then our loss should be 0. High positive loss value means *unhappiness* and vice-versa because the network tries to minimize the loss value, as we will see in the next sections.\n",
    "\n",
    "An image of a neural network, with 3 hidden layers (which is not so deep) is shown below. Here each node is a neuron and edges are weights."
   ]
  },
  {
   "cell_type": "markdown",
   "metadata": {},
   "source": [
    "![](images/deep_nn.png \"Credit: https://healthitanalytics.com/images/site/features/_normal/deep_nn.png\")"
   ]
  },
  {
   "cell_type": "code",
   "execution_count": 8,
   "metadata": {},
   "outputs": [],
   "source": [
    "#hide"
   ]
  },
  {
   "cell_type": "code",
   "execution_count": 9,
   "metadata": {},
   "outputs": [],
   "source": [
    "#hide"
   ]
  },
  {
   "cell_type": "markdown",
   "metadata": {},
   "source": [
    "## Neuron\n",
    "A neuron is the fundamental block of a neural network. Each neuron has weights, bias, and an activation function associated with it, as shown in the figure below. It receives inputs $x_i$, each input $x_i$ is multiplied with weight $w_i$, and bias $b$ is added to the final product, therefore $sum = \\Sigma{(w_i.x_i)} + b$. \n",
    "Now activation function $\\phi()$ is applied on the sum, so $y = \\phi( \\Sigma{(w_i.x_i)} + b )$. Some most commonly used activation functions are RELU, sigmoid, etc.\n"
   ]
  },
  {
   "cell_type": "markdown",
   "metadata": {},
   "source": [
    "![](images/neuron.jpeg \"Credit: https://miro.medium.com/max/3000/1*T4ARzySpEQvEnr_9pc78pg.jpeg\")"
   ]
  },
  {
   "cell_type": "code",
   "execution_count": 10,
   "metadata": {},
   "outputs": [],
   "source": [
    "#hide"
   ]
  },
  {
   "cell_type": "markdown",
   "metadata": {},
   "source": [
    "## Parameters Updation\n",
    "When we feed an input into the neural network then it gives output $\\hat{y}$. Let's have $y$ as ground truth label, and loss is $L = f(y, \\hat{y})$, where $f()$ is our loss function. \n",
    "We know that layer $L_i$ takes input as an output of layer $L_{i-1}$, which in turn takes input from the output of layer $L_{i-2}$, and so on. The point is that layer $L_i$ output depends on all the layers before it. Therefore the final neural network output $y$ could be thought of as a complex function taking all the network parameters (weights and bias of all neurons of all the layers) as input to that function.\n",
    "Mathematically, if $N()$ is a neural network function involving all parameters, and input is x, then loss $L = f(y, N(x))$\n",
    "\n",
    "Now we can compute derivatives of L w.r.t. to each parameter of neural network, $\\frac{\\partial{L}}{\\partial(p)}$, for all parameters p of the network. $\\frac{\\partial{L}}{\\partial(p)}$ gives the direction of the steepest ascent of the loss L w.r.t. to parameter p, which means the direction in which if we little bit change p then the value of L will increase the most. Therefore if we move p in the exact opposite direction then that will be the steepest descent direction, and so L will decrease the most. So, we can update parameter p as:\n",
    "$p = p - \\alpha\\frac{\\partial{L}}{\\partial(p)}$, where $\\alpha$ is known as the learning rate, the length of the step we have taken in the steepest descent direction.\n",
    "\n",
    "This is known as the classic Gradient Descent Algorithm for parameters updation. We can update all the parameters in a similar way, i.e. by computing gradient of loss L w.r.t. to a parameter, and then applying Gradient Descent Algorithm\n",
    "\n"
   ]
  },
  {
   "cell_type": "code",
   "execution_count": null,
   "metadata": {},
   "outputs": [],
   "source": []
  },
  {
   "cell_type": "markdown",
   "metadata": {},
   "source": [
    "## Network Training\n",
    "Suppose we have set of n training examples as $\\{(x_1, y_1), (x_2, y_2), ... , (x_n, y_n)\\}$, where $x_i$ is the $i^{th}$ training example and $y_i$ is the true class label for $i^{th}$ training example. We can initialize all the network parameters with randomly small values, and update them after each iteration. The training steps could be defined as:\n",
    "- Computing neural network output on $x_1, x_2, ..., x_n$.\n",
    "- Computing loss as $f(y_1, \\hat{y_1}), f(y_2, \\hat{y_2}), ..., f(y_n, \\hat{y_n}) $, where $\\hat{y_1}$ is class predicted by the neural network, and taking average value of loss\n",
    "- We compute gradients of average loss w.r.t. all the network parameters and update their values so as to minimize the loss.\n",
    "\n",
    "Keep on repeating the above steps until the loss converges.\n",
    "Going through all the training examples for once is known as 1 epoch. We can continue to train for multiple epochs until the loss converges.\n",
    "\n",
    "Once training is done, we'll end up with such network weights which are far better than initial random weights in prediction, and we can use the same weights for inference on new unseen data.\n",
    "\n"
   ]
  },
  {
   "cell_type": "markdown",
   "metadata": {},
   "source": [
    "## Conclusion\n",
    "I have covered a very basic understanding of deep learning models and terminology. In practice, the models which are deployed in production are very advanced and different, but the fundamental ideas remain the same. We will delve into a lot more deep learning topics in later posts."
   ]
  },
  {
   "cell_type": "code",
   "execution_count": null,
   "metadata": {},
   "outputs": [],
   "source": []
  },
  {
   "cell_type": "code",
   "execution_count": null,
   "metadata": {},
   "outputs": [],
   "source": []
  },
  {
   "cell_type": "code",
   "execution_count": 5,
   "metadata": {},
   "outputs": [
    {
     "name": "stdout",
     "output_type": "stream",
     "text": [
      "(200, 400, 3)\n"
     ]
    }
   ],
   "source": [
    "#hide\n",
    "import cv2\n",
    "\n",
    "filename = 'images/neuron.jpeg'\n",
    "img = cv2.imread(filename,cv2.IMREAD_COLOR)\n",
    "print(img.shape)\n",
    "\n",
    "img1 = cv2.resize(img, (400,200))\n",
    "\n",
    "cv2.imshow(\"image\", img1)\n",
    "cv2.waitKey(4000)\n",
    "cv2.destroyAllWindows()\n",
    "cv2.imwrite(filename, img1)"
   ]
  }
 ],
 "metadata": {
  "kernelspec": {
   "display_name": "Python 3",
   "language": "python",
   "name": "python3"
  },
  "language_info": {
   "codemirror_mode": {
    "name": "ipython",
    "version": 3
   },
   "file_extension": ".py",
   "mimetype": "text/x-python",
   "name": "python",
   "nbconvert_exporter": "python",
   "pygments_lexer": "ipython3",
   "version": "3.7.1"
  }
 },
 "nbformat": 4,
 "nbformat_minor": 2
}
