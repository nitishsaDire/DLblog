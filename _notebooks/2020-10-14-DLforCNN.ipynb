{
 "cells": [
  {
   "cell_type": "markdown",
   "metadata": {},
   "source": [
    "# Deep Learning Introduction\n",
    "> A very gentle introduction to the Deep Neural networks and some of it's terminology.\n",
    "\n",
    "- toc: true \n",
    "- badges: true\n",
    "- comments: true\n",
    "- categories: [jupyter]\n",
    "- image: images/chart-preview.png"
   ]
  },
  {
   "cell_type": "markdown",
   "metadata": {},
   "source": [
    "# Introduction\n",
    "\n",
    "Deep Learning is a technique to extract and transform data from an input dataset, by using a `deep` network of neural network layers. By deep means that number of layers are huge, could be as big as 100s of layers.\n",
    "Layers in any deep neural network are in one of the following categories:\n",
    "- **Input Layer:** The input applied to the network.\n",
    "- **Hidden Layers:** These are the layers where actual magic of learning of network parameters happens. Each hidden layer receives input as output of previous layer, applies transformations on the input, and gives output to the next layer.\n",
    "- **Output Layer:** This layer computes the output of network in the format we want. E.g. In classification problem if there are C classes, then generally output layer gives a C length vector containing probabilities for each class.\n",
    "\n",
    "The output of the neural network is compared against the true-output or truth-value, and a loss-value is calculated using a loss function. \n",
    "\n",
    "A loss function takes input as network's output $(\\hat{y})$ and truth-value$(y)$ and computes a scalar value which depicts our happiness or unhappiness with the result. E.g. If we have 5 classes, i.e. $C=5$, and we get $y=2$, but $\\hat{y}=1$, it means that our network predicted classifies input into class 2, but the ground truth showing input of class 1. To give feedback of our *unhappiness* to the network our loss value should be high positive number. If $\\hat{y} = y$ then our loss should be 0.\n",
    "\n",
    "The network updates it's parameters by seeing the loss value through an updation algorithm. "
   ]
  },
  {
   "cell_type": "markdown",
   "metadata": {},
   "source": [
    "# image of a neuron\n",
    "\n",
    "## image\n",
    "\n",
    "\n",
    "`![](../images/neuron1.png)`"
   ]
  },
  {
   "cell_type": "code",
   "execution_count": 5,
   "metadata": {},
   "outputs": [
    {
     "ename": "SyntaxError",
     "evalue": "invalid syntax (<ipython-input-5-9c6de209e4a6>, line 1)",
     "output_type": "error",
     "traceback": [
      "\u001b[0;36m  File \u001b[0;32m\"<ipython-input-5-9c6de209e4a6>\"\u001b[0;36m, line \u001b[0;32m1\u001b[0m\n\u001b[0;31m    `![](../images/neuron1.png)`\u001b[0m\n\u001b[0m    ^\u001b[0m\n\u001b[0;31mSyntaxError\u001b[0m\u001b[0;31m:\u001b[0m invalid syntax\n"
     ]
    }
   ],
   "source": [
    "`![](../images/neuron1.png)`"
   ]
  },
  {
   "cell_type": "code",
   "execution_count": 4,
   "metadata": {},
   "outputs": [
    {
     "ename": "SyntaxError",
     "evalue": "invalid syntax (<ipython-input-4-4845041d3630>, line 5)",
     "output_type": "error",
     "traceback": [
      "\u001b[0;36m  File \u001b[0;32m\"<ipython-input-4-4845041d3630>\"\u001b[0;36m, line \u001b[0;32m5\u001b[0m\n\u001b[0;31m    You can reference local images and they will be copied and rendered on your blog automatically.  You can include these with the following markdown syntax:\u001b[0m\n\u001b[0m          ^\u001b[0m\n\u001b[0;31mSyntaxError\u001b[0m\u001b[0;31m:\u001b[0m invalid syntax\n"
     ]
    }
   ],
   "source": [
    "## Images\n",
    "\n",
    "### Local Images\n",
    "\n",
    "You can reference local images and they will be copied and rendered on your blog automatically.  You can include these with the following markdown syntax:\n",
    "\n",
    "`![](my_icons/fastai_logo.png)`"
   ]
  },
  {
   "cell_type": "code",
   "execution_count": null,
   "metadata": {},
   "outputs": [],
   "source": []
  }
 ],
 "metadata": {
  "kernelspec": {
   "display_name": "Python 3",
   "language": "python",
   "name": "python3"
  },
  "language_info": {
   "codemirror_mode": {
    "name": "ipython",
    "version": 3
   },
   "file_extension": ".py",
   "mimetype": "text/x-python",
   "name": "python",
   "nbconvert_exporter": "python",
   "pygments_lexer": "ipython3",
   "version": "3.7.1"
  }
 },
 "nbformat": 4,
 "nbformat_minor": 2
}
