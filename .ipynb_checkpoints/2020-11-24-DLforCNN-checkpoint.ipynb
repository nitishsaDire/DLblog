{
 "cells": [
  {
   "cell_type": "markdown",
   "metadata": {},
   "source": [
    "# ML/DL techniques for Tabular Modeling PART III\n",
    "\n",
    "- toc: true \n",
    "- badges: true\n",
    "- comments: true"
   ]
  },
  {
   "cell_type": "markdown",
   "metadata": {},
   "source": [
    "solve extrapolation problem, and kaggle dataset. Talk about embeddings, and implement rf with nn embeddings, and show results are better."
   ]
  },
  {
   "cell_type": "code",
   "execution_count": 1,
   "metadata": {},
   "outputs": [
    {
     "name": "stderr",
     "output_type": "stream",
     "text": [
      "/home/nitish/miniconda3/lib/python3.7/site-packages/torch/cuda/__init__.py:52: UserWarning: CUDA initialization: Found no NVIDIA driver on your system. Please check that you have an NVIDIA GPU and installed a driver from http://www.nvidia.com/Download/index.aspx (Triggered internally at  /pytorch/c10/cuda/CUDAFunctions.cpp:100.)\n",
      "  return torch._C._cuda_getDeviceCount() > 0\n"
     ]
    }
   ],
   "source": [
    "#hide\n",
    "# !pip install -Uqq fastbook\n",
    "\n",
    "import fastbook\n",
    "fastbook.setup_book()"
   ]
  },
  {
   "cell_type": "code",
   "execution_count": 2,
   "metadata": {},
   "outputs": [],
   "source": [
    "#hide\n",
    "from fastbook import *\n",
    "from kaggle import api\n",
    "from pandas.api.types import is_string_dtype, is_numeric_dtype, is_categorical_dtype\n",
    "from fastai.tabular.all import *\n",
    "from sklearn.ensemble import RandomForestRegressor\n",
    "from sklearn.tree import DecisionTreeRegressor\n",
    "from dtreeviz.trees import *\n",
    "from IPython.display import Image, display_svg, SVG\n",
    "import numpy as np\n",
    "import matplotlib.pyplot as plt\n",
    "\n",
    "pd.options.display.max_rows = 20\n",
    "pd.options.display.max_columns = 8\n",
    "\n",
    "def r_mse(pred,y): return round(math.sqrt(((pred-y)**2).mean()), 6)\n",
    "def m_rmse(m, xs, y): return r_mse(m.predict(xs), y)"
   ]
  },
  {
   "cell_type": "code",
   "execution_count": 117,
   "metadata": {},
   "outputs": [],
   "source": [
    "#hide\n",
    "df = pd.read_csv('/home/nitish/Downloads/bluebook-bulldozers/TrainAndValid.csv', low_memory=False)"
   ]
  },
  {
   "cell_type": "markdown",
   "metadata": {},
   "source": [
    "## Introduction\n",
    "In this, the last part on tabula modelling, we will look into training a Neural Network (NN) on the Kaggle Dataset. In the last two parts we have seen decision trees, and random forests and look into their advantages/disadvantages. Their main advantage is their simplicity, faster training, and disadvantage being unable to extrapolatre on out of domain data. Firstly lets train a NN on the random dataset to examine it's extrpolation power."
   ]
  },
  {
   "cell_type": "markdown",
   "metadata": {},
   "source": [
    "## Extrapolation \n"
   ]
  },
  {
   "cell_type": "code",
   "execution_count": 3,
   "metadata": {},
   "outputs": [
    {
     "data": {
      "text/html": [
       "<table border=\"1\" class=\"dataframe\">\n",
       "  <thead>\n",
       "    <tr style=\"text-align: left;\">\n",
       "      <th>epoch</th>\n",
       "      <th>train_loss</th>\n",
       "      <th>valid_loss</th>\n",
       "      <th>time</th>\n",
       "    </tr>\n",
       "  </thead>\n",
       "  <tbody>\n",
       "    <tr>\n",
       "      <td>0</td>\n",
       "      <td>7.972749</td>\n",
       "      <td>4.008810</td>\n",
       "      <td>00:00</td>\n",
       "    </tr>\n",
       "    <tr>\n",
       "      <td>1</td>\n",
       "      <td>6.677185</td>\n",
       "      <td>2.662161</td>\n",
       "      <td>00:00</td>\n",
       "    </tr>\n",
       "    <tr>\n",
       "      <td>2</td>\n",
       "      <td>5.291224</td>\n",
       "      <td>5.083363</td>\n",
       "      <td>00:00</td>\n",
       "    </tr>\n",
       "    <tr>\n",
       "      <td>3</td>\n",
       "      <td>4.361655</td>\n",
       "      <td>3.622583</td>\n",
       "      <td>00:00</td>\n",
       "    </tr>\n",
       "    <tr>\n",
       "      <td>4</td>\n",
       "      <td>3.702361</td>\n",
       "      <td>3.748363</td>\n",
       "      <td>00:00</td>\n",
       "    </tr>\n",
       "    <tr>\n",
       "      <td>5</td>\n",
       "      <td>3.360657</td>\n",
       "      <td>10.190661</td>\n",
       "      <td>00:00</td>\n",
       "    </tr>\n",
       "    <tr>\n",
       "      <td>6</td>\n",
       "      <td>3.210521</td>\n",
       "      <td>0.754187</td>\n",
       "      <td>00:00</td>\n",
       "    </tr>\n",
       "    <tr>\n",
       "      <td>7</td>\n",
       "      <td>3.172959</td>\n",
       "      <td>5.972820</td>\n",
       "      <td>00:00</td>\n",
       "    </tr>\n",
       "    <tr>\n",
       "      <td>8</td>\n",
       "      <td>3.032082</td>\n",
       "      <td>1.291983</td>\n",
       "      <td>00:00</td>\n",
       "    </tr>\n",
       "    <tr>\n",
       "      <td>9</td>\n",
       "      <td>2.956714</td>\n",
       "      <td>3.510024</td>\n",
       "      <td>00:00</td>\n",
       "    </tr>\n",
       "    <tr>\n",
       "      <td>10</td>\n",
       "      <td>2.974406</td>\n",
       "      <td>1.764339</td>\n",
       "      <td>00:00</td>\n",
       "    </tr>\n",
       "    <tr>\n",
       "      <td>11</td>\n",
       "      <td>2.981836</td>\n",
       "      <td>1.889399</td>\n",
       "      <td>00:00</td>\n",
       "    </tr>\n",
       "    <tr>\n",
       "      <td>12</td>\n",
       "      <td>2.867945</td>\n",
       "      <td>4.597968</td>\n",
       "      <td>00:00</td>\n",
       "    </tr>\n",
       "    <tr>\n",
       "      <td>13</td>\n",
       "      <td>2.763726</td>\n",
       "      <td>2.212024</td>\n",
       "      <td>00:00</td>\n",
       "    </tr>\n",
       "    <tr>\n",
       "      <td>14</td>\n",
       "      <td>2.598257</td>\n",
       "      <td>1.323128</td>\n",
       "      <td>00:00</td>\n",
       "    </tr>\n",
       "    <tr>\n",
       "      <td>15</td>\n",
       "      <td>2.471248</td>\n",
       "      <td>1.911128</td>\n",
       "      <td>00:00</td>\n",
       "    </tr>\n",
       "    <tr>\n",
       "      <td>16</td>\n",
       "      <td>2.358785</td>\n",
       "      <td>3.345455</td>\n",
       "      <td>00:00</td>\n",
       "    </tr>\n",
       "    <tr>\n",
       "      <td>17</td>\n",
       "      <td>2.238375</td>\n",
       "      <td>3.601553</td>\n",
       "      <td>00:00</td>\n",
       "    </tr>\n",
       "    <tr>\n",
       "      <td>18</td>\n",
       "      <td>2.120937</td>\n",
       "      <td>3.233053</td>\n",
       "      <td>00:00</td>\n",
       "    </tr>\n",
       "    <tr>\n",
       "      <td>19</td>\n",
       "      <td>2.058635</td>\n",
       "      <td>2.512881</td>\n",
       "      <td>00:00</td>\n",
       "    </tr>\n",
       "    <tr>\n",
       "      <td>20</td>\n",
       "      <td>1.991236</td>\n",
       "      <td>1.336259</td>\n",
       "      <td>00:00</td>\n",
       "    </tr>\n",
       "    <tr>\n",
       "      <td>21</td>\n",
       "      <td>1.916328</td>\n",
       "      <td>0.684032</td>\n",
       "      <td>00:00</td>\n",
       "    </tr>\n",
       "    <tr>\n",
       "      <td>22</td>\n",
       "      <td>1.861911</td>\n",
       "      <td>0.610294</td>\n",
       "      <td>00:00</td>\n",
       "    </tr>\n",
       "    <tr>\n",
       "      <td>23</td>\n",
       "      <td>1.806844</td>\n",
       "      <td>0.609783</td>\n",
       "      <td>00:00</td>\n",
       "    </tr>\n",
       "    <tr>\n",
       "      <td>24</td>\n",
       "      <td>1.761676</td>\n",
       "      <td>0.634143</td>\n",
       "      <td>00:00</td>\n",
       "    </tr>\n",
       "    <tr>\n",
       "      <td>25</td>\n",
       "      <td>1.706081</td>\n",
       "      <td>0.676253</td>\n",
       "      <td>00:00</td>\n",
       "    </tr>\n",
       "    <tr>\n",
       "      <td>26</td>\n",
       "      <td>1.670432</td>\n",
       "      <td>0.692672</td>\n",
       "      <td>00:00</td>\n",
       "    </tr>\n",
       "    <tr>\n",
       "      <td>27</td>\n",
       "      <td>1.620014</td>\n",
       "      <td>0.710688</td>\n",
       "      <td>00:00</td>\n",
       "    </tr>\n",
       "    <tr>\n",
       "      <td>28</td>\n",
       "      <td>1.588594</td>\n",
       "      <td>0.721118</td>\n",
       "      <td>00:00</td>\n",
       "    </tr>\n",
       "    <tr>\n",
       "      <td>29</td>\n",
       "      <td>1.553502</td>\n",
       "      <td>0.685278</td>\n",
       "      <td>00:00</td>\n",
       "    </tr>\n",
       "  </tbody>\n",
       "</table>"
      ],
      "text/plain": [
       "<IPython.core.display.HTML object>"
      ]
     },
     "metadata": {},
     "output_type": "display_data"
    },
    {
     "data": {
      "text/html": [],
      "text/plain": [
       "<IPython.core.display.HTML object>"
      ]
     },
     "metadata": {},
     "output_type": "display_data"
    },
    {
     "data": {
      "text/html": [],
      "text/plain": [
       "<IPython.core.display.HTML object>"
      ]
     },
     "metadata": {},
     "output_type": "display_data"
    },
    {
     "data": {
      "text/html": [],
      "text/plain": [
       "<IPython.core.display.HTML object>"
      ]
     },
     "metadata": {},
     "output_type": "display_data"
    },
    {
     "data": {
      "text/html": [],
      "text/plain": [
       "<IPython.core.display.HTML object>"
      ]
     },
     "metadata": {},
     "output_type": "display_data"
    },
    {
     "data": {
      "text/plain": [
       "<matplotlib.legend.Legend at 0x7f66d33b43c8>"
      ]
     },
     "execution_count": 3,
     "metadata": {},
     "output_type": "execute_result"
    },
    {
     "data": {
      "image/png": "[encoded data removed]",
      "text/plain": [
       "<Figure size 1152x576 with 1 Axes>"
      ]
     },
     "metadata": {
      "needs_background": "light"
     },
     "output_type": "display_data"
    }
   ],
   "source": [
    "x = np.linspace(0, 10, 110)\n",
    "y = x + np.random.randn(110)\n",
    "\n",
    "df_lin=pd.concat([pd.DataFrame(x, columns=['x']), pd.DataFrame(y, columns=['y'])], axis = 1)\n",
    "\n",
    "cont_names=['x']\n",
    "cat_names=[]\n",
    "cond = (df_lin.x<8)\n",
    "train_idx = np.where( cond)[0]\n",
    "valid_idx = np.where(~cond)[0]\n",
    "\n",
    "splits = (list(train_idx),list(valid_idx))\n",
    "\n",
    "procs_nn = [Normalize]\n",
    "to_nn = TabularPandas(df_lin, procs_nn, cont_names=cont_names, cat_names=cat_names, splits=splits, y_names=['y'])\n",
    "\n",
    "dls = to_nn.dataloaders(30)\n",
    "\n",
    "y.min(), y.max()\n",
    "\n",
    "learn = tabular_learner(dls, y_range=(-2,13), layers=[100,10],\n",
    "                        n_out=1, loss_func=F.mse_loss)\n",
    "\n",
    "learn.fit_one_cycle(30, 5e-2)\n",
    "\n",
    "preds,targs = learn.get_preds(0)\n",
    "v_preds,v_targs = learn.get_preds(0)\n",
    "\n",
    "tr_res,_ = learn.get_preds(0)\n",
    "val_res,_ = learn.get_preds(1)\n",
    "\n",
    "df_lin.iloc[valid_idx]\n",
    "\n",
    "fig, ax = plt.subplots(figsize=(16,8))\n",
    "ax.scatter(x,y, marker='+', label='actual data')\n",
    "ax.scatter(df_lin.iloc[train_idx]['x'], tr_res, label='training data prediction')\n",
    "ax.scatter(df_lin.iloc[valid_idx]['x'], val_res, label='validation data prediction')\n",
    "\n",
    "ax.xaxis.set_major_locator(mpl.ticker.MultipleLocator(1))\n",
    "ax.grid(which='major', axis='both', linestyle=':', linewidth = 1, color='b')\n",
    "\n",
    "\n",
    "ax.set_xlabel(\"x\", labelpad=5, fontsize=26, fontname='serif', color=\"blue\")\n",
    "ax.set_ylabel(\"y\", labelpad=5, fontsize=26, fontname='serif', color=\"blue\")\n",
    "ax.legend(prop={\"size\":15})\n"
   ]
  },
  {
   "cell_type": "markdown",
   "metadata": {},
   "source": [
    "We can see clearly from the above figure that the neural network is giving good results, and far better than decision trees and rf, on extrapolation. This is because a neural network could fit a complex non linear function easily, and could generalize better than on unseen data. Now let's see the neural network performance on the Kaggle dataset. "
   ]
  },
  {
   "cell_type": "code",
   "execution_count": null,
   "metadata": {},
   "outputs": [],
   "source": []
  },
  {
   "cell_type": "code",
   "execution_count": 4,
   "metadata": {},
   "outputs": [
    {
     "name": "stdout",
     "output_type": "stream",
     "text": [
      "orig 0.230883\n"
     ]
    },
    {
     "data": {
      "text/html": [
       "<table border=\"1\" class=\"dataframe\">\n",
       "  <thead>\n",
       "    <tr style=\"text-align: left;\">\n",
       "      <th>epoch</th>\n",
       "      <th>train_loss</th>\n",
       "      <th>valid_loss</th>\n",
       "      <th>time</th>\n",
       "    </tr>\n",
       "  </thead>\n",
       "  <tbody>\n",
       "    <tr>\n",
       "      <td>0</td>\n",
       "      <td>0.084567</td>\n",
       "      <td>0.081409</td>\n",
       "      <td>00:40</td>\n",
       "    </tr>\n",
       "    <tr>\n",
       "      <td>1</td>\n",
       "      <td>0.071803</td>\n",
       "      <td>0.077324</td>\n",
       "      <td>00:45</td>\n",
       "    </tr>\n",
       "    <tr>\n",
       "      <td>2</td>\n",
       "      <td>0.063720</td>\n",
       "      <td>0.067529</td>\n",
       "      <td>00:39</td>\n",
       "    </tr>\n",
       "    <tr>\n",
       "      <td>3</td>\n",
       "      <td>0.057461</td>\n",
       "      <td>0.064616</td>\n",
       "      <td>00:35</td>\n",
       "    </tr>\n",
       "    <tr>\n",
       "      <td>4</td>\n",
       "      <td>0.054729</td>\n",
       "      <td>0.064906</td>\n",
       "      <td>00:35</td>\n",
       "    </tr>\n",
       "  </tbody>\n",
       "</table>"
      ],
      "text/plain": [
       "<IPython.core.display.HTML object>"
      ]
     },
     "metadata": {},
     "output_type": "display_data"
    },
    {
     "data": {
      "text/html": [],
      "text/plain": [
       "<IPython.core.display.HTML object>"
      ]
     },
     "metadata": {},
     "output_type": "display_data"
    },
    {
     "data": {
      "text/plain": [
       "0.254766"
      ]
     },
     "execution_count": 4,
     "metadata": {},
     "output_type": "execute_result"
    }
   ],
   "source": [
    "df = pd.read_csv('/home/nitish/Downloads/bluebook-bulldozers/TrainAndValid.csv', low_memory=False)\n",
    "\n",
    "sizes = ('Large','Large / Medium','Medium','Small','Mini','Compact')\n",
    "df['ProductSize'] = df['ProductSize'].astype('category')\n",
    "df['ProductSize'].cat.set_categories(sizes, ordered=True, inplace=True)\n",
    "\n",
    "dep_var = 'SalePrice'\n",
    "df[dep_var] = np.log(df[dep_var])\n",
    "\n",
    "df = add_datepart(df, 'saledate')\n",
    "\n",
    "procs = [Categorify, FillMissing]\n",
    "\n",
    "cond = (df.saleYear<2011) | (df.saleMonth<10)\n",
    "train_idx = np.where( cond)[0]\n",
    "valid_idx = np.where(~cond)[0]\n",
    "\n",
    "splits = (list(train_idx),list(valid_idx))\n",
    "\n",
    "cont,cat = cont_cat_split(df, 1, dep_var=dep_var)\n",
    "\n",
    "to = TabularPandas(df, procs, cat, cont, y_names=dep_var, splits=splits)\n",
    "\n",
    "\n",
    "xs,y = to.train.xs,to.train.y\n",
    "valid_xs,valid_y = to.valid.xs,to.valid.y\n",
    "\n",
    "xs.loc[xs['YearMade']<1900, 'YearMade'] = 1950\n",
    "valid_xs.loc[valid_xs['YearMade']<1900, 'YearMade'] = 1950\n",
    "\n",
    "m = DecisionTreeRegressor()\n",
    "m.fit(xs, y);\n",
    "\n",
    "def rf(xs, y, n_estimators=40, max_samples=200_000,\n",
    "       max_features=0.5, min_samples_leaf=5, **kwargs):\n",
    "    return RandomForestRegressor(n_jobs=-1, n_estimators=n_estimators,\n",
    "        max_samples=max_samples, max_features=max_features,\n",
    "        min_samples_leaf=min_samples_leaf, oob_score=True).fit(xs, y)\n",
    "\n",
    "m = rf(xs, y)\n",
    "def rf_feat_importance(m, df):\n",
    "    return pd.DataFrame({'cols':df.columns, 'imp':m.feature_importances_}\n",
    "                       ).sort_values('imp', ascending=False)\n",
    "\n",
    "fi = rf_feat_importance(m, xs)\n",
    "fi[:10]\n",
    "\n",
    "to_keep = fi[fi.imp>0.005].cols\n",
    "xs_imp = xs[to_keep]\n",
    "valid_xs_imp = valid_xs[to_keep]\n",
    "\n",
    "to_drop = ['saleYear', 'ProductGroupDesc', 'fiBaseModel', 'Grouser_Tracks']\n",
    "xs_final = xs_imp.drop(to_drop, axis=1)\n",
    "valid_xs_final = valid_xs_imp.drop(to_drop, axis=1)\n",
    "\n",
    "df_dom = pd.concat([xs_final, valid_xs_final])\n",
    "is_valid = np.array([0]*len(xs_final) + [1]*len(valid_xs_final))\n",
    "\n",
    "m = rf(df_dom, is_valid)\n",
    "rf_feat_importance(m, df_dom)[:6]\n",
    "\n",
    "\n",
    "m = rf(xs_final, y)\n",
    "# print('orig', m_rmse(m, valid_xs_final, valid_y))\n",
    "\n",
    "\n",
    "time_vars = ['SalesID','MachineID']\n",
    "xs_final_time = xs_final.drop(time_vars, axis=1)\n",
    "valid_xs_time = valid_xs_final.drop(time_vars, axis=1)\n",
    "\n",
    "################ NN\n",
    "\n",
    "df_nn = pd.read_csv('/home/nitish/Downloads/bluebook-bulldozers/TrainAndValid.csv', low_memory=False)\n",
    "df_nn['ProductSize'] = df_nn['ProductSize'].astype('category')\n",
    "df_nn['ProductSize'].cat.set_categories(sizes, ordered=True, inplace=True)\n",
    "df_nn[dep_var] = np.log(df_nn[dep_var])\n",
    "df_nn = add_datepart(df_nn, 'saledate')\n",
    "\n",
    "\n",
    "df_nn_final = df_nn[list(xs_final_time.columns) + [dep_var]]\n",
    "\n",
    "\n",
    "cont_nn,cat_nn = cont_cat_split(df_nn_final, dep_var=dep_var)\n",
    "\n",
    "cont_nn.append('saleElapsed')\n",
    "\n",
    "cat_nn.remove('saleElapsed')\n",
    "\n",
    "cat_nn.remove('fiModelDescriptor')\n",
    "\n",
    "procs_nn = [Categorify, FillMissing, Normalize]\n",
    "to_nn = TabularPandas(df_nn_final.astype({'saleElapsed': 'int64'}), procs_nn, cat_nn, cont_nn,\n",
    "                      splits=splits, y_names=dep_var)\n",
    "\n",
    "dls = to_nn.dataloaders(1024)\n",
    "\n",
    "from fastai.tabular.all import *\n",
    "learn = tabular_learner(dls, y_range=(8,12), layers=[500,250],\n",
    "                        n_out=1, loss_func=F.mse_loss)\n",
    "\n",
    "learn.fit_one_cycle(5, 1e-2)\n",
    "\n",
    "preds,targs = learn.get_preds()\n",
    "r_mse(preds,targs)"
   ]
  },
  {
   "cell_type": "markdown",
   "metadata": {},
   "source": [
    "We are getting rmse of 0.25 here, and each epoch takes ~40 seconds, which is on CPU, on GPU it will take around 1 2 seconds. If we train for 15 epochs total we could achieve ~0.23 mse, same as rf. I didn't trained for 15 more epochs because while writing the blog I was on CPU ;-)"
   ]
  },
  {
   "cell_type": "markdown",
   "metadata": {},
   "source": [
    "## Categorical Embeddings\n",
    "If we look at the architecture of our model, we can see that before the first layer there is embedding layer. It's for categorical variables. So rather than keeping the categorical variables category-values in the df and use one-hot encoding, NN should use embeddings instead because of two folowing 2 main reasons:\n",
    "1. One-Hot encoding is expensive both space wise and computationally.\n",
    "1. We can use the embeddings we get to get the idea about the relationship of different categories.\n",
    "Reason for 1 is that if a categorical column has 5000 distinct categories, and there are total 1000 training examples, then it will use $5$x$10^6$ length array just for feeding the input to the NN, which would be infeasible if these numbers are bigger.\n",
    "\n",
    "Reason for 2 is suppose we get embeddings for words then basically we are getting a fixed dimensional representation of each of the word, and we can do various mathematical operations on the word-embeddings. E.g., we can find the distance between any two words which could be interpreted as how similar or distinct the words are, cluster the similar words together, etc.\n",
    "\n",
    "\n",
    "In Fastai, the target dimension of an embedding is found out by the learner itself during training. So, there are total 10 categorcal variables, so 11 embedding matrices are shown below, where for example the third embedding matrix is of shape (75, 18), meaning it has 75 distinct categories and it's calculating an 18-dim vector for each of the category."
   ]
  },
  {
   "cell_type": "code",
   "execution_count": 5,
   "metadata": {},
   "outputs": [
    {
     "data": {
      "text/plain": [
       "TabularModel(\n",
       "  (embeds): ModuleList(\n",
       "    (0): Embedding(7, 5)\n",
       "    (1): Embedding(3, 3)\n",
       "    (2): Embedding(75, 18)\n",
       "    (3): Embedding(4, 3)\n",
       "    (4): Embedding(178, 29)\n",
       "    (5): Embedding(5060, 190)\n",
       "    (6): Embedding(7, 5)\n",
       "    (7): Embedding(13, 7)\n",
       "    (8): Embedding(7, 5)\n",
       "    (9): Embedding(18, 8)\n",
       "  )\n",
       "  (emb_drop): Dropout(p=0.0, inplace=False)\n",
       "  (bn_cont): BatchNorm1d(3, eps=1e-05, momentum=0.1, affine=True, track_running_stats=True)\n",
       "  (layers): Sequential(\n",
       "    (0): LinBnDrop(\n",
       "      (0): BatchNorm1d(276, eps=1e-05, momentum=0.1, affine=True, track_running_stats=True)\n",
       "      (1): Linear(in_features=276, out_features=500, bias=False)\n",
       "      (2): ReLU(inplace=True)\n",
       "    )\n",
       "    (1): LinBnDrop(\n",
       "      (0): BatchNorm1d(500, eps=1e-05, momentum=0.1, affine=True, track_running_stats=True)\n",
       "      (1): Linear(in_features=500, out_features=250, bias=False)\n",
       "      (2): ReLU(inplace=True)\n",
       "    )\n",
       "    (2): LinBnDrop(\n",
       "      (0): Linear(in_features=250, out_features=1, bias=True)\n",
       "    )\n",
       "    (3): SigmoidRange(low=8, high=12)\n",
       "  )\n",
       ")"
      ]
     },
     "execution_count": 5,
     "metadata": {},
     "output_type": "execute_result"
    }
   ],
   "source": [
    "learn.model"
   ]
  },
  {
   "cell_type": "markdown",
   "metadata": {},
   "source": [
    "## Using Embeddings in a Random Forest"
   ]
  },
  {
   "cell_type": "markdown",
   "metadata": {},
   "source": [
    "There is a paper, \"Entity Embeddings of Categorical Variables\" which tells about embeddings of categorical variables. The abstract of the paper is:\n",
    "> Entity embedding not only reduces memory usage and speeds up neural networks compared with one-hot encoding, but more importantly by mapping similar values close to each other in the embedding space it reveals the intrinsic properties of the categorical variables... [It] is especially useful for datasets with lots of high cardinality features, where other methods tend to overfit... As entity embedding defines a distance measure for categorical variables it can be used for visualizing categorical data and for data clustering."
   ]
  },
  {
   "cell_type": "markdown",
   "metadata": {},
   "source": [
    "We can use the embeddings we got for different categorical variables as features and train a randm forest on this new data. It can be seen that RF with embeddings instead of raw categories perform better. I have tried using NN embeddings and trained a RF on top of it, but get only slightly better results (might be some bug/issue with my code). We can get the embedding matrix like:"
   ]
  },
  {
   "cell_type": "code",
   "execution_count": 38,
   "metadata": {},
   "outputs": [
    {
     "data": {
      "text/plain": [
       "('ProductSize', Parameter containing:\n",
       " tensor([[-0.0970, -0.0665,  0.1017,  0.0527, -0.2218],\n",
       "         [-0.1284,  0.0566, -0.1521, -0.0613,  0.0242],\n",
       "         [ 0.2466,  0.1294, -0.0728, -0.2354,  0.1425],\n",
       "         [ 0.0848,  0.1131, -0.1244, -0.0624,  0.1196],\n",
       "         [ 0.0515,  0.0218, -0.0528, -0.0112, -0.0019],\n",
       "         [-0.2016, -0.3449,  0.2277,  0.2383, -0.1808],\n",
       "         [-0.0733, -0.1717,  0.2554,  0.1517, -0.1284]], requires_grad=True))"
      ]
     },
     "execution_count": 38,
     "metadata": {},
     "output_type": "execute_result"
    }
   ],
   "source": [
    "cat_nn[0],list(learn.model.embeds.parameters())[0]"
   ]
  },
  {
   "cell_type": "markdown",
   "metadata": {},
   "source": [
    "This is the 7x5 embedding matrix for categorical variable ProductSize. There are 6 distinct categories in this feature, and one category (the last one) is na, for missing ones or not applicable."
   ]
  },
  {
   "cell_type": "code",
   "execution_count": 33,
   "metadata": {},
   "outputs": [],
   "source": [
    "cat=[]\n",
    "emb=[]\n",
    "for idx, item in enumerate(list(learn.model.embeds.parameters())):\n",
    "    cat.append(cat_nn[idx])\n",
    "    emb.append(item.shape)\n",
    "df_ = pd.DataFrame()\n",
    "df_['categories']=cat\n",
    "df_['embeddings']=emb"
   ]
  },
  {
   "cell_type": "code",
   "execution_count": 34,
   "metadata": {},
   "outputs": [
    {
     "data": {
      "text/html": [
       "<div>\n",
       "<style scoped>\n",
       "    .dataframe tbody tr th:only-of-type {\n",
       "        vertical-align: middle;\n",
       "    }\n",
       "\n",
       "    .dataframe tbody tr th {\n",
       "        vertical-align: top;\n",
       "    }\n",
       "\n",
       "    .dataframe thead th {\n",
       "        text-align: right;\n",
       "    }\n",
       "</style>\n",
       "<table border=\"1\" class=\"dataframe\">\n",
       "  <thead>\n",
       "    <tr style=\"text-align: right;\">\n",
       "      <th></th>\n",
       "      <th>categories</th>\n",
       "      <th>embeddings</th>\n",
       "    </tr>\n",
       "  </thead>\n",
       "  <tbody>\n",
       "    <tr>\n",
       "      <th>0</th>\n",
       "      <td>ProductSize</td>\n",
       "      <td>(7, 5)</td>\n",
       "    </tr>\n",
       "    <tr>\n",
       "      <th>1</th>\n",
       "      <td>Coupler_System</td>\n",
       "      <td>(3, 3)</td>\n",
       "    </tr>\n",
       "    <tr>\n",
       "      <th>2</th>\n",
       "      <td>fiProductClassDesc</td>\n",
       "      <td>(75, 18)</td>\n",
       "    </tr>\n",
       "    <tr>\n",
       "      <th>3</th>\n",
       "      <td>Hydraulics_Flow</td>\n",
       "      <td>(4, 3)</td>\n",
       "    </tr>\n",
       "    <tr>\n",
       "      <th>4</th>\n",
       "      <td>fiSecondaryDesc</td>\n",
       "      <td>(178, 29)</td>\n",
       "    </tr>\n",
       "    <tr>\n",
       "      <th>5</th>\n",
       "      <td>fiModelDesc</td>\n",
       "      <td>(5060, 190)</td>\n",
       "    </tr>\n",
       "    <tr>\n",
       "      <th>6</th>\n",
       "      <td>Enclosure</td>\n",
       "      <td>(7, 5)</td>\n",
       "    </tr>\n",
       "    <tr>\n",
       "      <th>7</th>\n",
       "      <td>Hydraulics</td>\n",
       "      <td>(13, 7)</td>\n",
       "    </tr>\n",
       "    <tr>\n",
       "      <th>8</th>\n",
       "      <td>ProductGroup</td>\n",
       "      <td>(7, 5)</td>\n",
       "    </tr>\n",
       "    <tr>\n",
       "      <th>9</th>\n",
       "      <td>Tire_Size</td>\n",
       "      <td>(18, 8)</td>\n",
       "    </tr>\n",
       "  </tbody>\n",
       "</table>\n",
       "</div>"
      ],
      "text/plain": [
       "           categories   embeddings\n",
       "0         ProductSize       (7, 5)\n",
       "1      Coupler_System       (3, 3)\n",
       "2  fiProductClassDesc     (75, 18)\n",
       "3     Hydraulics_Flow       (4, 3)\n",
       "4     fiSecondaryDesc    (178, 29)\n",
       "5         fiModelDesc  (5060, 190)\n",
       "6           Enclosure       (7, 5)\n",
       "7          Hydraulics      (13, 7)\n",
       "8        ProductGroup       (7, 5)\n",
       "9           Tire_Size      (18, 8)"
      ]
     },
     "execution_count": 34,
     "metadata": {},
     "output_type": "execute_result"
    }
   ],
   "source": [
    "df_"
   ]
  },
  {
   "cell_type": "markdown",
   "metadata": {},
   "source": [
    "## Conclusion\n",
    "We have covered the basic ML techniques, a NN network, and about using embeddings obtained from a NN in a RF.\n",
    "We have seen the better extrapolation by a NN than RF. "
   ]
  },
  {
   "cell_type": "code",
   "execution_count": null,
   "metadata": {},
   "outputs": [],
   "source": []
  }
 ],
 "metadata": {
  "kernelspec": {
   "display_name": "Python 3",
   "language": "python",
   "name": "python3"
  },
  "language_info": {
   "codemirror_mode": {
    "name": "ipython",
    "version": 3
   },
   "file_extension": ".py",
   "mimetype": "text/x-python",
   "name": "python",
   "nbconvert_exporter": "python",
   "pygments_lexer": "ipython3",
   "version": "3.7.1"
  }
 },
 "nbformat": 4,
 "nbformat_minor": 2
}
